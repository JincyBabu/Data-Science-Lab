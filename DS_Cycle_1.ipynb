{
  "nbformat": 4,
  "nbformat_minor": 0,
  "metadata": {
    "colab": {
      "name": "DS Cycle 1.ipynb",
      "provenance": [],
      "authorship_tag": "ABX9TyN4Lg/CTfAUSnCF3SLXuwVN",
      "include_colab_link": true
    },
    "kernelspec": {
      "name": "python3",
      "display_name": "Python 3"
    },
    "language_info": {
      "name": "python"
    }
  },
  "cells": [
    {
      "cell_type": "markdown",
      "metadata": {
        "id": "view-in-github",
        "colab_type": "text"
      },
      "source": [
        "<a href=\"https://colab.research.google.com/github/JincyBabu/Data-Science-Lab/blob/main/DS_Cycle_1.ipynb\" target=\"_parent\"><img src=\"https://colab.research.google.com/assets/colab-badge.svg\" alt=\"Open In Colab\"/></a>"
      ]
    },
    {
      "cell_type": "code",
      "metadata": {
        "colab": {
          "base_uri": "https://localhost:8080/"
        },
        "id": "Db-oFXdz9UJM",
        "outputId": "327824ea-52b1-446a-f8f4-9c582ede3799"
      },
      "source": [
        "#1. Program to Print all non-Prime Numbers in an Interval\n",
        "\n",
        "a = int(input(\"enter lower bound :\"))\n",
        "b = int(input(\"enter upper bound :\"))\n",
        "for n in range(a,b+1):\n",
        "    if n > 1:\n",
        "        for i in range(2,n):\n",
        "            if (n % i) == 0 :\n",
        "              print(n)\n",
        "              break"
      ],
      "execution_count": 2,
      "outputs": [
        {
          "output_type": "stream",
          "name": "stdout",
          "text": [
            "enter lower bound :0\n",
            "enter upper bound :10\n",
            "4\n",
            "6\n",
            "8\n",
            "9\n",
            "10\n"
          ]
        }
      ]
    },
    {
      "cell_type": "code",
      "metadata": {
        "colab": {
          "base_uri": "https://localhost:8080/"
        },
        "id": "i9bmcorM9fXo",
        "outputId": "12660284-d989-4214-e227-26784053e433"
      },
      "source": [
        "#2. Program to print the first N Fibonacci numbers.\n",
        "\n",
        "n=int(input(\"enter the value of n : \"))\n",
        "a=0\n",
        "b=1\n",
        "sum=0\n",
        "count=1\n",
        "print(\"fibonacci series : \")\n",
        "while (count<=n):\n",
        "  print(sum,end=\" \")\n",
        "  count+=1\n",
        "  a=b\n",
        "  b=sum\n",
        "  sum=a+b"
      ],
      "execution_count": 3,
      "outputs": [
        {
          "output_type": "stream",
          "name": "stdout",
          "text": [
            "enter the value of n : 7\n",
            "fibonacci series : \n",
            "0 1 1 2 3 5 8 "
          ]
        }
      ]
    },
    {
      "cell_type": "code",
      "metadata": {
        "colab": {
          "base_uri": "https://localhost:8080/"
        },
        "id": "-fk3OzrE9jWI",
        "outputId": "54ed1ece-01a3-408d-efda-8767493bd72c"
      },
      "source": [
        "#3. Given sides of a triangle, write a program to check whether given triangle is an isosceles, equilateral or scalene.\n",
        "\n",
        "a=int(input(\"enter the value of side 1 : \"))\n",
        "b=int(input(\"enter the value of side 2 : \"))\n",
        "c=int(input(\"enter the value of side3 : \"))\n",
        "\n",
        "def checktriangle(a,b,c):\n",
        "  if a==b==c :\n",
        "    print(\"given is equilateral triangle.\")\n",
        "  elif a==b or b==c or a==c :\n",
        "    print(\"given is isosceles triangle.\")\n",
        "  else :\n",
        "    print(\"given is scalene triangle.\")\n",
        "\n",
        "checktriangle(a,b,c)"
      ],
      "execution_count": 5,
      "outputs": [
        {
          "output_type": "stream",
          "name": "stdout",
          "text": [
            "enter the value of side 1 : 6\n",
            "enter the value of side 2 : 3\n",
            "enter the value of side3 : 2\n",
            "given is scalene triangle.\n"
          ]
        }
      ]
    },
    {
      "cell_type": "code",
      "metadata": {
        "colab": {
          "base_uri": "https://localhost:8080/"
        },
        "id": "H3vvUotA9mjP",
        "outputId": "16c4106b-e75d-471e-da02-f48fcaca7cb6"
      },
      "source": [
        "#4. Program to check whether given pair of number is coprime.\n",
        "\n",
        "num1=int(input(\"enter the num1  : \"))\n",
        "num2=int(input(\"enter the num2 : \"))\n",
        "\n",
        "def checkprime(a,b):\n",
        "  for i in range(1,a+1):\n",
        "    a%i==0 and b%i==0\n",
        "    hcf=i\n",
        "  return hcf==1\n",
        "\n",
        "if checkprime(num1,num2):\n",
        "  print(\"%d and %d are coprime.\"%(num1,num2))\n",
        "else:\n",
        "  print(\"%d and %d are not coprime.\"%(num1,num2))"
      ],
      "execution_count": 7,
      "outputs": [
        {
          "output_type": "stream",
          "name": "stdout",
          "text": [
            "enter the num1  : 10\n",
            "enter the num2 : 20\n",
            "10 and 20 are not coprime.\n"
          ]
        }
      ]
    },
    {
      "cell_type": "code",
      "metadata": {
        "colab": {
          "base_uri": "https://localhost:8080/"
        },
        "id": "rH66iA339q73",
        "outputId": "9e60c1b5-eb51-42b8-c8cb-3a1bda37438b"
      },
      "source": [
        "#5. Program to find the roots of a quadratic equation(rounded to 2 decimal places)\n",
        "\n",
        "import cmath\n",
        "\n",
        "a=int(input(\"enter the value of a : \"))\n",
        "b=int(input(\"enter the value of b : \"))\n",
        "c=int(input(\"enter the value of c : \"))\n",
        "\n",
        "d=(b**2)-(4*a*c)\n",
        "\n",
        "root1 = (-b-cmath.sqrt(d))/(2*a)\n",
        "root2 = (-b+cmath.sqrt(d))/(2*a)\n",
        "\n",
        "print(\"{0} and {1} are the roots of a quadratic equation.\".format(root1,root2))"
      ],
      "execution_count": 8,
      "outputs": [
        {
          "output_type": "stream",
          "name": "stdout",
          "text": [
            "enter the value of a : 4\n",
            "enter the value of b : 3\n",
            "enter the value of c : 2\n",
            "(-0.375-0.5994789404140899j) and (-0.375+0.5994789404140899j) are the roots of a quadratic equation.\n"
          ]
        }
      ]
    },
    {
      "cell_type": "code",
      "metadata": {
        "colab": {
          "base_uri": "https://localhost:8080/"
        },
        "id": "T6MEXibE9uLH",
        "outputId": "bf7000d6-edfd-4af4-b288-7fb520a22397"
      },
      "source": [
        "#6. Program to check whether a given number is perfect number or not(sum of factors=number)\n",
        "\n",
        "n=int(input(\"enter any value : \"))\n",
        "sum=0\n",
        "for i in range(1,n):\n",
        "  if n % i == 0:\n",
        "    sum=sum+i\n",
        "if(sum==n):\n",
        "  print(n,\"is a perfect number.\")\n",
        "else:\n",
        "  print(n,\"is not a perfect number.\")"
      ],
      "execution_count": 9,
      "outputs": [
        {
          "output_type": "stream",
          "name": "stdout",
          "text": [
            "enter any value : 30\n",
            "30 is not a perfect number.\n"
          ]
        }
      ]
    },
    {
      "cell_type": "code",
      "metadata": {
        "colab": {
          "base_uri": "https://localhost:8080/"
        },
        "id": "yWzOY0Sh9xi3",
        "outputId": "a6bf1950-a017-4532-8308-c48f8b55c4b8"
      },
      "source": [
        "#7. Program to display amstrong numbers upto 1000.\n",
        "\n",
        "for n in range(0,1000):\n",
        "  sum=0\n",
        "  temp=n\n",
        "  while temp>0:\n",
        "    a=temp%10\n",
        "    sum+=a**3\n",
        "    temp//=10\n",
        "    if n==sum:\n",
        "      print(n)"
      ],
      "execution_count": 10,
      "outputs": [
        {
          "output_type": "stream",
          "name": "stdout",
          "text": [
            "1\n",
            "64\n",
            "125\n",
            "153\n",
            "216\n",
            "370\n",
            "371\n",
            "407\n",
            "729\n"
          ]
        }
      ]
    },
    {
      "cell_type": "code",
      "metadata": {
        "colab": {
          "base_uri": "https://localhost:8080/"
        },
        "id": "K8l2HamM902n",
        "outputId": "9f2e90f0-6335-475f-b841-1f2d16b32d0c"
      },
      "source": [
        "#8. Store and display the days of a week as a List, Tuple, Dictionary, Set. Also demonstrate different ways to store values in each of them. Display its type also.\n",
        "\n",
        "l=[\"monday\",\"tuesday\",\"wednesday\",\"thursday\",\"friday\",\"saturday\",\"sunday\"]\n",
        "t=(\"monday\",\"tuesday\",\"wednesday\",\"thursday\",\"friday\",\"saturday\",\"sunday\")\n",
        "d={\"monday\",\"tuesday\",\"wednesday\",\"thursday\",\"friday\",\"saturday\",\"sunday\"}\n",
        "print(\"the value of\",l,\"is of the type\",type(l))\n",
        "print(\"the value of\",t,\"is of the type\",type(t))\n",
        "print(\"the value of\",d,\"is of the type\",type(d))"
      ],
      "execution_count": 11,
      "outputs": [
        {
          "output_type": "stream",
          "name": "stdout",
          "text": [
            "the value of ['monday', 'tuesday', 'wednesday', 'thursday', 'friday', 'saturday', 'sunday'] is of the type <class 'list'>\n",
            "the value of ('monday', 'tuesday', 'wednesday', 'thursday', 'friday', 'saturday', 'sunday') is of the type <class 'tuple'>\n",
            "the value of {'friday', 'tuesday', 'sunday', 'saturday', 'monday', 'thursday', 'wednesday'} is of the type <class 'set'>\n"
          ]
        }
      ]
    },
    {
      "cell_type": "code",
      "metadata": {
        "colab": {
          "base_uri": "https://localhost:8080/"
        },
        "id": "lUUeF7zT9373",
        "outputId": "e8aa3d00-19fa-4f8c-9414-f281abae55cf"
      },
      "source": [
        "#9. Write a program to add elements of given 2 lists.\n",
        "\n",
        "list1=[\"apple\",\"banana\",\"cherry\"]\n",
        "list2=[\"grapes\",\"kiwi\",\"gauva\"]\n",
        "list1.extend(list2)\n",
        "print(list1)"
      ],
      "execution_count": 12,
      "outputs": [
        {
          "output_type": "stream",
          "name": "stdout",
          "text": [
            "['apple', 'banana', 'cherry', 'grapes', 'kiwi', 'gauva']\n"
          ]
        }
      ]
    },
    {
      "cell_type": "code",
      "metadata": {
        "colab": {
          "base_uri": "https://localhost:8080/"
        },
        "id": "mGSG_OWK96b3",
        "outputId": "4a27c091-b2e5-4270-a37c-8960aca34557"
      },
      "source": [
        "#10. Write a program to find the sum of 2 matrices using nested List.\n",
        "\n",
        "x=[[1,2,3],\n",
        "   [4,5,6],\n",
        "   [7,8,9]]\n",
        "y=[[9,8,7],\n",
        "   [6,5,4],\n",
        "   [3,2,1]]\n",
        "z=[[0,0,0],\n",
        "   [0,0,0],\n",
        "   [0,0,0]]\n",
        "for i  in range(len(x)):\n",
        "  for j in range(len(x[0])):\n",
        "    z[i][j]=x[i][j]+y[i][j]\n",
        "for k in z:\n",
        "  print(k)"
      ],
      "execution_count": 13,
      "outputs": [
        {
          "output_type": "stream",
          "name": "stdout",
          "text": [
            "[10, 10, 10]\n",
            "[10, 10, 10]\n",
            "[10, 10, 10]\n"
          ]
        }
      ]
    },
    {
      "cell_type": "code",
      "metadata": {
        "colab": {
          "base_uri": "https://localhost:8080/"
        },
        "id": "ORw02G2v9_N3",
        "outputId": "9e9dacbb-251b-4c34-999c-fc677c817dfe"
      },
      "source": [
        "#11. Write a program to perform bubble sort on a given set of elements.\n",
        "\n",
        "l=[]\n",
        "n=int(input(\"enter the no. elements :\"))\n",
        "for i in range(0,n):\n",
        "  x=input()\n",
        "  l.append(x)\n",
        "print(\"before sorting elements\")\n",
        "for i in l:\n",
        "  print(i,end=\" \")\n",
        "for i in range(0,len(l)):\n",
        "  for j in range(i+1,len(l)):\n",
        "    if l[j]< l[i]:\n",
        "      temp=l[j]\n",
        "      l[j]=l[i]\n",
        "      l[i]=temp\n",
        "print(\"\\nafter bubble sort\")\n",
        "for i in l:\n",
        "  print(i,end=\" \")"
      ],
      "execution_count": 14,
      "outputs": [
        {
          "output_type": "stream",
          "name": "stdout",
          "text": [
            "enter the no. elements :5\n",
            "3\n",
            "2\n",
            "6\n",
            "1\n",
            "8\n",
            "before sorting elements\n",
            "3 2 6 1 8 \n",
            "after bubble sort\n",
            "1 2 3 6 8 "
          ]
        }
      ]
    },
    {
      "cell_type": "code",
      "metadata": {
        "colab": {
          "base_uri": "https://localhost:8080/"
        },
        "id": "rh2YQ98N-CPf",
        "outputId": "43865e5b-19b8-452d-95bf-74f3aa073c54"
      },
      "source": [
        "#12. Program to find the count of each vowel in a string(use dictionary).\n",
        "\n",
        "vowel='aeiou'\n",
        "str1=input(\"enter the string :\")\n",
        "str1=str1.lower()\n",
        "count = {}.fromkeys(vowel,0)\n",
        "for char in str1:\n",
        "   if char in count:\n",
        "       count[char] += 1\n",
        "print(count)"
      ],
      "execution_count": 15,
      "outputs": [
        {
          "output_type": "stream",
          "name": "stdout",
          "text": [
            "enter the string :Malayalam\n",
            "{'a': 4, 'e': 0, 'i': 0, 'o': 0, 'u': 0}\n"
          ]
        }
      ]
    },
    {
      "cell_type": "code",
      "metadata": {
        "id": "0i8y0F6L-FKN"
      },
      "source": [
        "#13. Write a Python program that accept a positive number and subtract from thisnumber the sum of its digits and so on. Continues this operation until the number is positive\n",
        "\n",
        "def repeat_times(n):\n",
        "  s = 0\n",
        "  n_str = str(n)\n",
        "  while n > 0:\n",
        "    n -= sum([int(i) for i in list(n_str)])\n",
        "    n_str = list(str(n))\n",
        "    s += 1\n",
        "  return s\n",
        "\n",
        "print(repeat_times(12))"
      ],
      "execution_count": null,
      "outputs": []
    },
    {
      "cell_type": "code",
      "metadata": {
        "colab": {
          "base_uri": "https://localhost:8080/"
        },
        "id": "imoA6p9n-LL1",
        "outputId": "ab7ece95-0b1d-4cbc-d873-4bc5f06f5b82"
      },
      "source": [
        "#14. Write a Python program that accepts a 10 digit mobile number, and find the digits which are absent in a given mobile number\n",
        "\n",
        "def absent_digits(n):\n",
        "  all_nums = set([0,1,2,3,4,5,6,7,8,9])\n",
        "  n = set([int(i) for i in n])\n",
        "  n = n.symmetric_difference(all_nums)\n",
        "  n = sorted(n)\n",
        "  return n\n",
        "print(absent_digits([9,8,3,2,2,0,9,7,6,3]))"
      ],
      "execution_count": 17,
      "outputs": [
        {
          "output_type": "stream",
          "name": "stdout",
          "text": [
            "[1, 4, 5]\n"
          ]
        }
      ]
    }
  ]
}